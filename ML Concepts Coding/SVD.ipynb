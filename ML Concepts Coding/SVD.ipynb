{
 "cells": [
  {
   "cell_type": "code",
   "execution_count": 1,
   "metadata": {},
   "outputs": [],
   "source": [
    "import numpy as np\n",
    "import pandas as pd"
   ]
  },
  {
   "cell_type": "code",
   "execution_count": 2,
   "metadata": {},
   "outputs": [
    {
     "name": "stdout",
     "output_type": "stream",
     "text": [
      "Enter the number of rows3\n",
      "Enter the number of columns2\n",
      "Enter the next row\n",
      "1\n",
      "5\n",
      "Enter the next row\n",
      "4\n",
      "6\n",
      "Enter the next row\n",
      "5\n",
      "5\n"
     ]
    }
   ],
   "source": [
    "Ro=int(input(\"Enter the number of rows\"))\n",
    "Co=int(input(\"Enter the number of columns\"))\n",
    "\n",
    "Mat=[]\n",
    "\n",
    "for i in range(Ro):\n",
    "    x=[]\n",
    "    print(\"Enter the next row\")\n",
    "    for j in range(Co):\n",
    "        x.append(int(input()))\n",
    "    Mat.append(x)  \n",
    "    "
   ]
  },
  {
   "cell_type": "code",
   "execution_count": 3,
   "metadata": {},
   "outputs": [
    {
     "data": {
      "text/plain": [
       "array([[1, 5],\n",
       "       [4, 6],\n",
       "       [5, 5]])"
      ]
     },
     "execution_count": 3,
     "metadata": {},
     "output_type": "execute_result"
    }
   ],
   "source": [
    "np.array(Mat)"
   ]
  },
  {
   "cell_type": "code",
   "execution_count": 4,
   "metadata": {},
   "outputs": [],
   "source": [
    "def Transpose(Mat,Ro,Co):\n",
    "    for i in range(Co): \n",
    "        for j in range(Ro): \n",
    "            Mat_T[i][j] = Mat[j][i] \n",
    "    return Mat_T\n",
    "\n",
    "Mat_T=np.zeros((Co,Ro))            \n",
    "Mat_T=Transpose(Mat,Ro,Co)\n",
    "        "
   ]
  },
  {
   "cell_type": "code",
   "execution_count": 5,
   "metadata": {},
   "outputs": [
    {
     "data": {
      "text/plain": [
       "array([[1., 4., 5.],\n",
       "       [5., 6., 5.]])"
      ]
     },
     "execution_count": 5,
     "metadata": {},
     "output_type": "execute_result"
    }
   ],
   "source": [
    "Mat_T\n"
   ]
  },
  {
   "cell_type": "code",
   "execution_count": 6,
   "metadata": {},
   "outputs": [],
   "source": [
    "def Matrix_mul(A,B):\n",
    "    A_Row=len(A)\n",
    "    A_Col=len(A[0])\n",
    "        \n",
    "    B_Row=len(B)\n",
    "    B_Col=len(B[0])\n",
    "    \n",
    "    result=np.zeros((A_Row,B_Col))\n",
    "    \n",
    "    for i in range(A_Row):\n",
    "        for j in range(B_Col):\n",
    "            for k in range(A_Col):\n",
    "                result[i][j]=result[i][j]+A[i][k]*B[k][j]\n",
    "                \n",
    "    return result"
   ]
  },
  {
   "cell_type": "code",
   "execution_count": 7,
   "metadata": {},
   "outputs": [],
   "source": [
    "Left_Singular_Matrix=Matrix_mul(Mat,Mat_T)\n",
    "Right_Singular_Matrix=Matrix_mul(Mat_T,Mat)"
   ]
  },
  {
   "cell_type": "code",
   "execution_count": 8,
   "metadata": {},
   "outputs": [
    {
     "data": {
      "text/plain": [
       "array([[42., 54.],\n",
       "       [54., 86.]])"
      ]
     },
     "execution_count": 8,
     "metadata": {},
     "output_type": "execute_result"
    }
   ],
   "source": [
    "Right_Singular_Matrix"
   ]
  },
  {
   "cell_type": "code",
   "execution_count": 9,
   "metadata": {},
   "outputs": [],
   "source": [
    "valuesU,vectorsU=np.linalg.eig(Left_Singular_Matrix)\n",
    "valuesV,vectorsV=np.linalg.eig(Right_Singular_Matrix)\n"
   ]
  },
  {
   "cell_type": "code",
   "execution_count": 10,
   "metadata": {},
   "outputs": [
    {
     "data": {
      "text/plain": [
       "array([[-0.82984845, -0.55798885],\n",
       "       [ 0.55798885, -0.82984845]])"
      ]
     },
     "execution_count": 10,
     "metadata": {},
     "output_type": "execute_result"
    }
   ],
   "source": [
    "vectorsV"
   ]
  },
  {
   "cell_type": "code",
   "execution_count": 11,
   "metadata": {},
   "outputs": [
    {
     "data": {
      "text/plain": [
       "array([1.22309519e+02, 5.69048105e+00, 1.41902779e-15])"
      ]
     },
     "execution_count": 11,
     "metadata": {},
     "output_type": "execute_result"
    }
   ],
   "source": [
    "valuesU"
   ]
  },
  {
   "cell_type": "code",
   "execution_count": 12,
   "metadata": {},
   "outputs": [
    {
     "data": {
      "text/plain": [
       "array([[-0.4256331 , -0.82168017,  0.37904902],\n",
       "       [-0.65203085, -0.0119638 , -0.75809804],\n",
       "       [-0.627449  ,  0.56982327,  0.53066863]])"
      ]
     },
     "execution_count": 12,
     "metadata": {},
     "output_type": "execute_result"
    }
   ],
   "source": [
    "vectorsU"
   ]
  },
  {
   "cell_type": "code",
   "execution_count": 13,
   "metadata": {},
   "outputs": [],
   "source": [
    "import math\n",
    "\n",
    "def GramScmdict(vectorsU):\n",
    "    result11=[]\n",
    "    for ele in vectorsU:\n",
    "        result10=0\n",
    "        for i in ele:\n",
    "            result10=(result10+i*i)\n",
    "        result11.append(math.sqrt(result10))\n",
    "\n",
    "    for i in range(len(vectorsU)):\n",
    "        for j in range(len(vectorsU[0])):\n",
    "            vectorsU[i][j]=vectorsU[i][j]/result11[i]\n",
    "    return vectorsU        \n",
    "    "
   ]
  },
  {
   "cell_type": "code",
   "execution_count": 14,
   "metadata": {},
   "outputs": [],
   "source": [
    "vectorsU=GramScmdict(vectorsU)\n",
    "vectorsV=GramScmdict(vectorsV)"
   ]
  },
  {
   "cell_type": "code",
   "execution_count": 15,
   "metadata": {},
   "outputs": [
    {
     "data": {
      "text/plain": [
       "array([[-0.82984845, -0.55798885],\n",
       "       [ 0.55798885, -0.82984845]])"
      ]
     },
     "execution_count": 15,
     "metadata": {},
     "output_type": "execute_result"
    }
   ],
   "source": [
    "vectorsV"
   ]
  },
  {
   "cell_type": "code",
   "execution_count": 16,
   "metadata": {},
   "outputs": [
    {
     "data": {
      "text/plain": [
       "array([[-0.4256331 , -0.82168017,  0.37904902],\n",
       "       [-0.65203085, -0.0119638 , -0.75809804],\n",
       "       [-0.627449  ,  0.56982327,  0.53066863]])"
      ]
     },
     "execution_count": 16,
     "metadata": {},
     "output_type": "execute_result"
    }
   ],
   "source": [
    "vectorsU"
   ]
  },
  {
   "cell_type": "code",
   "execution_count": 17,
   "metadata": {},
   "outputs": [
    {
     "data": {
      "text/plain": [
       "array([1.22309519e+02, 5.69048105e+00, 1.41902779e-15])"
      ]
     },
     "execution_count": 17,
     "metadata": {},
     "output_type": "execute_result"
    }
   ],
   "source": [
    "valuesU"
   ]
  },
  {
   "cell_type": "code",
   "execution_count": 18,
   "metadata": {},
   "outputs": [],
   "source": [
    "sigma_matrix=np.zeros((Ro,Ro))"
   ]
  },
  {
   "cell_type": "code",
   "execution_count": 19,
   "metadata": {},
   "outputs": [],
   "source": [
    "for i in range(len(sigma_matrix)):\n",
    "    for j in range(len(sigma_matrix[0])):\n",
    "        if (i==j):\n",
    "            sigma_matrix[i][j]=int(math.sqrt(valuesU[i]))"
   ]
  },
  {
   "cell_type": "code",
   "execution_count": 20,
   "metadata": {},
   "outputs": [
    {
     "name": "stdout",
     "output_type": "stream",
     "text": [
      "After SVD decomposition,the value of U will be [[-0.4256331  -0.82168017  0.37904902]\n",
      " [-0.65203085 -0.0119638  -0.75809804]\n",
      " [-0.627449    0.56982327  0.53066863]],the value of V will be [[-0.82984845 -0.55798885]\n",
      " [ 0.55798885 -0.82984845]] and the value of sigma will be[[11.  0.  0.]\n",
      " [ 0.  2.  0.]\n",
      " [ 0.  0.  0.]]\n"
     ]
    }
   ],
   "source": [
    "print(\"After SVD decomposition,the value of U will be {},the value of V will be {} and the value of sigma will be{}\".format(vectorsU,vectorsV,sigma_matrix))"
   ]
  },
  {
   "cell_type": "code",
   "execution_count": 21,
   "metadata": {},
   "outputs": [
    {
     "name": "stdout",
     "output_type": "stream",
     "text": [
      "[[11.  0.  0.]\n",
      " [ 0.  2.  0.]\n",
      " [ 0.  0.  0.]]\n"
     ]
    }
   ],
   "source": [
    "print(sigma_matrix)"
   ]
  },
  {
   "cell_type": "code",
   "execution_count": null,
   "metadata": {},
   "outputs": [],
   "source": []
  }
 ],
 "metadata": {
  "kernelspec": {
   "display_name": "Python 3",
   "language": "python",
   "name": "python3"
  },
  "language_info": {
   "codemirror_mode": {
    "name": "ipython",
    "version": 3
   },
   "file_extension": ".py",
   "mimetype": "text/x-python",
   "name": "python",
   "nbconvert_exporter": "python",
   "pygments_lexer": "ipython3",
   "version": "3.8.3"
  }
 },
 "nbformat": 4,
 "nbformat_minor": 4
}
