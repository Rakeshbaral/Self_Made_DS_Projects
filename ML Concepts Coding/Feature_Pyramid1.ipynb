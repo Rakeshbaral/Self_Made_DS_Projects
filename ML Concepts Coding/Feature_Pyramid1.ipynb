{
 "cells": [
  {
   "cell_type": "code",
   "execution_count": 2,
   "metadata": {},
   "outputs": [],
   "source": [
    "from skimage.transform import resize\n",
    "import cv2\n",
    "import skimage\n"
   ]
  },
  {
   "cell_type": "code",
   "execution_count": 3,
   "metadata": {},
   "outputs": [],
   "source": [
    "def pyramid1(image,scale=1.5,minsize=(30,30)):\n",
    "    yield image\n",
    "    while True:\n",
    "        w=int(image.shape[1]/scale)\n",
    "        image=resize(image,(image.shape[0],w))\n",
    "        \n",
    "        \n",
    "        if image.shape[0]<minsize[1] or image.shape[1]<minsize[0]:\n",
    "            break\n",
    "        \n",
    "        yield image"
   ]
  },
  {
   "cell_type": "code",
   "execution_count": 17,
   "metadata": {},
   "outputs": [],
   "source": [
    "def pyramid2(image):\n",
    "    for (i,resized) in enumerate(skimage.transform.pyramid_gaussian(image,downscale=2,max_layer=7)):\n",
    "        if resized.shape[0] <30 or resized.shape[1]<30:\n",
    "            break\n",
    "        \n",
    "    cv2.imshow(\"Layer {}\".format(i + 1), resized)\n",
    "    yield image\n",
    "    cv2.waitKey(0)"
   ]
  },
  {
   "cell_type": "code",
   "execution_count": 18,
   "metadata": {},
   "outputs": [],
   "source": [
    "#from pyimagesearch.helpers import pyramid\n",
    "from skimage.transform import pyramid_gaussian\n",
    "import argparse\n",
    "#import cv2"
   ]
  },
  {
   "cell_type": "code",
   "execution_count": 19,
   "metadata": {},
   "outputs": [
    {
     "data": {
      "text/plain": [
       "'for (i, resized) in enumerate(pyramid_gaussian(image, downscale=2)):\\n\\n    if resized.shape[0] < 30 or resized.shape[1] < 30:\\n        break\\n\\n\\n    cv2.imshow(\"Layer {}\".format(i + 1), resized)\\n    cv2.waitKey(0)'"
      ]
     },
     "execution_count": 19,
     "metadata": {},
     "output_type": "execute_result"
    }
   ],
   "source": [
    "'''ap = argparse.ArgumentParser()\n",
    "ap.add_argument(\"-i\", \"--image\", required=True, help=\"Path to the image\")\n",
    "ap.add_argument(\"-s\", \"--scale\", type=float, default=1.5, help=\"scale factor size\")\n",
    "args = vars(ap.parse_args())'''\n",
    "image = cv2.imread(\"lena.tif\")\n",
    "for (i, resized) in enumerate(pyramid2(image)):\n",
    "    cv2.imshow(\"Layer {}\".format(i + 1), resized)\n",
    "    cv2.waitKey(0)\n",
    "cv2.destroyAllWindows()\n",
    "\n",
    "'''for (i, resized) in enumerate(pyramid_gaussian(image, downscale=2)):\n",
    "\n",
    "    if resized.shape[0] < 30 or resized.shape[1] < 30:\n",
    "        break\n",
    "\n",
    "\n",
    "    cv2.imshow(\"Layer {}\".format(i + 1), resized)\n",
    "    cv2.waitKey(0)'''"
   ]
  },
  {
   "cell_type": "markdown",
   "metadata": {},
   "source": [
    "******************************************************************************************************************************************************************************"
   ]
  },
  {
   "cell_type": "code",
   "execution_count": 1,
   "metadata": {},
   "outputs": [],
   "source": [
    "import cv2\n",
    "import numpy as np"
   ]
  },
  {
   "cell_type": "code",
   "execution_count": 2,
   "metadata": {},
   "outputs": [],
   "source": [
    "A=cv2.imread('lena.tif')"
   ]
  },
  {
   "cell_type": "code",
   "execution_count": 3,
   "metadata": {},
   "outputs": [],
   "source": [
    "G=A.copy()"
   ]
  },
  {
   "cell_type": "code",
   "execution_count": 4,
   "metadata": {},
   "outputs": [],
   "source": [
    "GP=[G]"
   ]
  },
  {
   "cell_type": "code",
   "execution_count": 8,
   "metadata": {},
   "outputs": [],
   "source": [
    "for i in range(6):\n",
    "    G=cv2.pyrDown(G)\n",
    "    GP.append(G)"
   ]
  },
  {
   "cell_type": "code",
   "execution_count": 16,
   "metadata": {},
   "outputs": [
    {
     "data": {
      "text/plain": [
       "7"
      ]
     },
     "execution_count": 16,
     "metadata": {},
     "output_type": "execute_result"
    }
   ],
   "source": [
    "len(GP)"
   ]
  },
  {
   "cell_type": "code",
   "execution_count": 19,
   "metadata": {},
   "outputs": [],
   "source": [
    "for i in GP:\n",
    "    cv2.imshow(\"Pyramid\",i)\n",
    "    cv2.waitKey(0)\n",
    "cv2.destroyAllWindows()"
   ]
  },
  {
   "cell_type": "code",
   "execution_count": 21,
   "metadata": {},
   "outputs": [],
   "source": [
    "for i in range(6):\n",
    "    G=cv2.pyrUp(G)\n",
    "    GP.append(G)\n",
    "for i in GP:\n",
    "    cv2.imshow(\"Pyramid\",i)\n",
    "    cv2.waitKey(0)\n",
    "cv2.destroyAllWindows()"
   ]
  },
  {
   "cell_type": "code",
   "execution_count": null,
   "metadata": {},
   "outputs": [],
   "source": []
  }
 ],
 "metadata": {
  "kernelspec": {
   "display_name": "Python 3",
   "language": "python",
   "name": "python3"
  },
  "language_info": {
   "codemirror_mode": {
    "name": "ipython",
    "version": 3
   },
   "file_extension": ".py",
   "mimetype": "text/x-python",
   "name": "python",
   "nbconvert_exporter": "python",
   "pygments_lexer": "ipython3",
   "version": "3.8.3"
  }
 },
 "nbformat": 4,
 "nbformat_minor": 4
}
