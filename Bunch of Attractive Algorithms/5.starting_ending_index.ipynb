{
 "cells": [
  {
   "cell_type": "code",
   "execution_count": 23,
   "metadata": {},
   "outputs": [
    {
     "name": "stdout",
     "output_type": "stream",
     "text": [
      "Enter the total number of numbers you want to give10\n",
      "Enter the values in ascending order\n",
      "Next Value?5\n",
      "Next Value?6\n",
      "Next Value?8\n",
      "Next Value?5\n",
      "Next Value?4\n",
      "Next Value?2\n",
      "Next Value?1\n",
      "Next Value?5\n",
      "Next Value?6\n",
      "Next Value?8\n",
      "[5, 6, 8, 5, 4, 2, 1, 5, 6, 8]\n",
      "After sorting the list will be [1, 2, 4, 5, 5, 5, 6, 6, 8, 8]\n",
      "Enter the target value5\n",
      "The target value is 5\n",
      "3 5\n"
     ]
    }
   ],
   "source": [
    "import numpy as np\n",
    "Tot_num=int(input(\"Enter the total number of numbers you want to give\"))\n",
    "list1=[]\n",
    "print(\"Enter the values in ascending order\")\n",
    "num=0\n",
    "for i in range(Tot_num):\n",
    "    num=int(input(\"Next Value?\"))\n",
    "    list1.append(num)\n",
    "\n",
    "print(list1)\n",
    "list1=sorted(list1)\n",
    "print(\"After sorting the list will be\",list1)\n",
    "\n",
    "target=int(input(\"Enter the target value\"))\n",
    "print(\"The target value is\",target)\n",
    "\n",
    "#list=[1,2,6,6,8,9,9,10,11,60,60,65,70,80,80,80,81]\n",
    "#target=80\n",
    "flag=False\n",
    "start=0\n",
    "end=0\n",
    "for i in list1:\n",
    "    if(i==target and flag==False):\n",
    "        flag=True\n",
    "        start=list1.index(i)\n",
    "        end=start\n",
    "    elif(i!=target):\n",
    "        flag==False\n",
    "    elif(flag==True):\n",
    "        end=end+1\n",
    "print(start,end)      "
   ]
  },
  {
   "cell_type": "code",
   "execution_count": null,
   "metadata": {},
   "outputs": [],
   "source": []
  },
  {
   "cell_type": "code",
   "execution_count": null,
   "metadata": {},
   "outputs": [],
   "source": []
  }
 ],
 "metadata": {
  "kernelspec": {
   "display_name": "Python 3",
   "language": "python",
   "name": "python3"
  },
  "language_info": {
   "codemirror_mode": {
    "name": "ipython",
    "version": 3
   },
   "file_extension": ".py",
   "mimetype": "text/x-python",
   "name": "python",
   "nbconvert_exporter": "python",
   "pygments_lexer": "ipython3",
   "version": "3.8.3"
  }
 },
 "nbformat": 4,
 "nbformat_minor": 4
}
