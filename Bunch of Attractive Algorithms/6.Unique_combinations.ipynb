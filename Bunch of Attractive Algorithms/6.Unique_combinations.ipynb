{
 "cells": [
  {
   "cell_type": "code",
   "execution_count": 4,
   "metadata": {},
   "outputs": [
    {
     "data": {
      "text/plain": [
       "[2, 4, 6, 8, 10, 12, 14, 16, 5, 10, 15, 4, 8, 12, 16, 6, 12, 8, 16, 9]"
      ]
     },
     "execution_count": 4,
     "metadata": {},
     "output_type": "execute_result"
    }
   ],
   "source": [
    "#candidates=[2,5,4,6,8,9]\n",
    "#target=16\n",
    "#new_list=[][]\n",
    "\n",
    "#for i in candidates:\n",
    "#    temp=i\n",
    "#    k=0\n",
    "#    while(temp<=target):\n",
    "#        new_list\n",
    "#        temp=i+temp\n",
    "#        k=k+1\n",
    "\n",
    "#for i in list\n",
    "        "
   ]
  },
  {
   "cell_type": "code",
   "execution_count": 49,
   "metadata": {},
   "outputs": [
    {
     "name": "stdout",
     "output_type": "stream",
     "text": [
      "1\n",
      "1\n",
      "1\n",
      "1\n",
      "1\n",
      "1\n"
     ]
    }
   ],
   "source": [
    "#candidates=[2,5,4,6,8,9]\n",
    "#target=16\n",
    "#new_list={}\n",
    "#list1=[]\n",
    "\n",
    "#for i in candidates:\n",
    " #   temp=i\n",
    "  #  k=0\n",
    "  #  while(temp<=target):\n",
    "   #     list1.append(temp)\n",
    "   #     temp=i+temp\n",
    "   #     k=k+1\n",
    "   # new_list[i]=list1\n",
    "\n",
    "#new_list1=new_list\n",
    "\n",
    "\n",
    "#for index in new_list.keys():\n",
    "#    for index1 in new_list1.keys():\n",
    "#        if(index1==candidates[0]):\n",
    "#            break\n",
    "#        print(index)\n",
    "#        print(index1)\n",
    "        \n",
    "       \n",
    "\n",
    "    \n",
    "          "
   ]
  },
  {
   "cell_type": "code",
   "execution_count": 43,
   "metadata": {},
   "outputs": [
    {
     "data": {
      "text/plain": [
       "{2: [2, 4, 6, 8, 10, 12, 14, 16, 5, 10, 15, 4, 8, 12, 16, 6, 12, 8, 16, 9],\n",
       " 5: [2, 4, 6, 8, 10, 12, 14, 16, 5, 10, 15, 4, 8, 12, 16, 6, 12, 8, 16, 9],\n",
       " 4: [2, 4, 6, 8, 10, 12, 14, 16, 5, 10, 15, 4, 8, 12, 16, 6, 12, 8, 16, 9],\n",
       " 6: [2, 4, 6, 8, 10, 12, 14, 16, 5, 10, 15, 4, 8, 12, 16, 6, 12, 8, 16, 9],\n",
       " 8: [2, 4, 6, 8, 10, 12, 14, 16, 5, 10, 15, 4, 8, 12, 16, 6, 12, 8, 16, 9],\n",
       " 9: [2, 4, 6, 8, 10, 12, 14, 16, 5, 10, 15, 4, 8, 12, 16, 6, 12, 8, 16, 9]}"
      ]
     },
     "execution_count": 43,
     "metadata": {},
     "output_type": "execute_result"
    }
   ],
   "source": [
    "new_list1"
   ]
  },
  {
   "cell_type": "code",
   "execution_count": 44,
   "metadata": {},
   "outputs": [
    {
     "data": {
      "text/plain": [
       "{2: [2, 4, 6, 8, 10, 12, 14, 16, 5, 10, 15, 4, 8, 12, 16, 6, 12, 8, 16, 9],\n",
       " 5: [2, 4, 6, 8, 10, 12, 14, 16, 5, 10, 15, 4, 8, 12, 16, 6, 12, 8, 16, 9],\n",
       " 4: [2, 4, 6, 8, 10, 12, 14, 16, 5, 10, 15, 4, 8, 12, 16, 6, 12, 8, 16, 9],\n",
       " 6: [2, 4, 6, 8, 10, 12, 14, 16, 5, 10, 15, 4, 8, 12, 16, 6, 12, 8, 16, 9],\n",
       " 8: [2, 4, 6, 8, 10, 12, 14, 16, 5, 10, 15, 4, 8, 12, 16, 6, 12, 8, 16, 9],\n",
       " 9: [2, 4, 6, 8, 10, 12, 14, 16, 5, 10, 15, 4, 8, 12, 16, 6, 12, 8, 16, 9]}"
      ]
     },
     "execution_count": 44,
     "metadata": {},
     "output_type": "execute_result"
    }
   ],
   "source": [
    "new_list\n",
    "new_list1"
   ]
  },
  {
   "cell_type": "code",
   "execution_count": 1,
   "metadata": {},
   "outputs": [
    {
     "name": "stdout",
     "output_type": "stream",
     "text": [
      "[2, 2, 2, 2, 2, 2, 2, 2]\n",
      "[2, 2, 2, 2, 2, 2, 4]\n",
      "[2, 2, 2, 2, 2, 6]\n",
      "[2, 2, 2, 2, 8]\n",
      "[2, 2, 4, 8]\n",
      "[2, 5, 9]\n",
      "[5, 5, 6]\n",
      "[4, 4, 4, 4]\n",
      "[4, 4, 8]\n",
      "[8, 8]\n"
     ]
    }
   ],
   "source": [
    "def sum_1(cand,tar):\n",
    "    for i in cand:\n",
    "        j=cand.index(i)\n",
    "        sum_new(cand[j:],tar,0,[])\n",
    "def sum_new(cand,tar,ind,list2):\n",
    "    if tar==0:\n",
    "        print(list2)\n",
    "        return\n",
    "    if tar<0:\n",
    "        return\n",
    "    for i in range(ind,len(cand)):\n",
    "        list2.append(cand[i])\n",
    "        sum_new(cand[i:],tar-cand[i],i,list2)\n",
    "        list2.remove(cand[i])\n",
    "sum_1([2,5,4,6,8,9],16)"
   ]
  },
  {
   "cell_type": "code",
   "execution_count": null,
   "metadata": {},
   "outputs": [],
   "source": []
  }
 ],
 "metadata": {
  "kernelspec": {
   "display_name": "Python 3",
   "language": "python",
   "name": "python3"
  },
  "language_info": {
   "codemirror_mode": {
    "name": "ipython",
    "version": 3
   },
   "file_extension": ".py",
   "mimetype": "text/x-python",
   "name": "python",
   "nbconvert_exporter": "python",
   "pygments_lexer": "ipython3",
   "version": "3.8.3"
  }
 },
 "nbformat": 4,
 "nbformat_minor": 4
}
