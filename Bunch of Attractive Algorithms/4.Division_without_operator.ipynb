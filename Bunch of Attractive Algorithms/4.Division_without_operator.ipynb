{
 "cells": [
  {
   "cell_type": "code",
   "execution_count": 13,
   "metadata": {},
   "outputs": [
    {
     "name": "stdout",
     "output_type": "stream",
     "text": [
      "Enter the Divident-32\n",
      "Enter the Divisor15\n",
      "-2\n"
     ]
    }
   ],
   "source": [
    "num1_org=int(input('Enter the Divident'))\n",
    "num1=num1_org\n",
    "num2_org=int(input('Enter the Divisor'))\n",
    "num2=num2_org\n",
    "\n",
    "\n",
    "if(num1<0):\n",
    "    num1=-num1\n",
    "if(num2<0):\n",
    "    num2=-num2\n",
    "\n",
    "#if(num1<0)\n",
    "\n",
    "result=0\n",
    "k=0\n",
    "while(num1>0 and num2>0):\n",
    "    if(num1>0):\n",
    "        num1=num1-num2\n",
    "        k=k+1\n",
    "if(num1==0):\n",
    "    result=k\n",
    "else:\n",
    "    result=k-1\n",
    "\n",
    "if((num1_org<0 and num2_org<0)or(num1_org>0 and num2_org>0)):\n",
    "    print(result)\n",
    "if((num1_org>0 and num2_org<0)or(num1_org<0 and num2_org>0)):\n",
    "    print(-result)\n",
    "\n"
   ]
  },
  {
   "cell_type": "code",
   "execution_count": null,
   "metadata": {},
   "outputs": [],
   "source": []
  },
  {
   "cell_type": "code",
   "execution_count": null,
   "metadata": {},
   "outputs": [],
   "source": []
  }
 ],
 "metadata": {
  "kernelspec": {
   "display_name": "Python 3",
   "language": "python",
   "name": "python3"
  },
  "language_info": {
   "codemirror_mode": {
    "name": "ipython",
    "version": 3
   },
   "file_extension": ".py",
   "mimetype": "text/x-python",
   "name": "python",
   "nbconvert_exporter": "python",
   "pygments_lexer": "ipython3",
   "version": "3.8.3"
  }
 },
 "nbformat": 4,
 "nbformat_minor": 4
}
