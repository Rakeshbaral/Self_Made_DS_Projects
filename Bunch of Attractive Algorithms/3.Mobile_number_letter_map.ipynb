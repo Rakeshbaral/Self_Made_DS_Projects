{
 "cells": [
  {
   "cell_type": "code",
   "execution_count": 10,
   "metadata": {},
   "outputs": [
    {
     "name": "stdout",
     "output_type": "stream",
     "text": [
      "['ad', 'ae', 'af', 'bd', 'be', 'bf', 'cd', 'ce', 'cf']\n"
     ]
    }
   ],
   "source": [
    "#num_2=['a','b','c']\n",
    "#num_3=['d','e','f']\n",
    "#num_4=['g','h','i']\n",
    "#num_5=['j','k','l']\n",
    "#num_6=['m','n','o']\n",
    "#num_7=['p','q','r','s']\n",
    "#num_8=['t','u','v']\n",
    "#num_9=['w','x','y','z']\n",
    "\n",
    "numbers={1:[],\n",
    "         2:['a','b','c'],\n",
    "         3:['d','e','f'],\n",
    "         4:['g','h','i'],\n",
    "         5:['j','k','l'],\n",
    "         6:['m','n','o'],\n",
    "         7:['p','q','r','s'],\n",
    "         8:['t','u','v'],\n",
    "         9:['w','x','y','z']}\n",
    "\n",
    "Str='23'\n",
    "\n",
    "numbers_map=[]\n",
    "\n",
    "for i in Str:\n",
    "    i=int(i)\n",
    "    numbers_map.append(numbers[i])\n",
    "length1=len(numbers_map)\n",
    "    \n",
    "result=[]\n",
    "\n",
    "if(length1==1):\n",
    "    for num1 in numbers_map[0]:\n",
    "        result.append(num1)\n",
    "    print(result)\n",
    "    \n",
    "if (length1==2):\n",
    "    for num1 in numbers_map[0]:\n",
    "        for num2 in numbers_map[1]:\n",
    "            result.append(num1+num2)\n",
    "    print(result)\n",
    "    \n",
    "if (length1==3):\n",
    "    for num1 in numbers_map[0]:\n",
    "        for num2 in numbers_map[1]:\n",
    "            for num3 in numbers_map[2]:\n",
    "                result.append(num1+num2+num3)\n",
    "    print(result) \n",
    "    \n",
    "if(length1==4):\n",
    "    for num1 in numbers_map[0]:\n",
    "        for num2 in numbers_map[1]:\n",
    "            for num3 in numbers_map[2]:\n",
    "                for num4 in numbers_map[3]:\n",
    "                    result.append(num1+num2+num3+num4)\n",
    "        \n",
    "    print(result)  \n",
    "    \n",
    "    \n"
   ]
  },
  {
   "cell_type": "code",
   "execution_count": null,
   "metadata": {},
   "outputs": [],
   "source": []
  }
 ],
 "metadata": {
  "kernelspec": {
   "display_name": "Python 3",
   "language": "python",
   "name": "python3"
  },
  "language_info": {
   "codemirror_mode": {
    "name": "ipython",
    "version": 3
   },
   "file_extension": ".py",
   "mimetype": "text/x-python",
   "name": "python",
   "nbconvert_exporter": "python",
   "pygments_lexer": "ipython3",
   "version": "3.8.3"
  }
 },
 "nbformat": 4,
 "nbformat_minor": 4
}
