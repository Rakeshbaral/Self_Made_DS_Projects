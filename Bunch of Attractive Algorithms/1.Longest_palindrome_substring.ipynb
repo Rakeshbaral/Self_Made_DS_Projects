{
 "cells": [
  {
   "cell_type": "code",
   "execution_count": 15,
   "metadata": {},
   "outputs": [
    {
     "name": "stdout",
     "output_type": "stream",
     "text": [
      "15 xxxxxxxyxxxxxxx\n"
     ]
    }
   ],
   "source": [
    "def palindrome(Str):\n",
    "    length=len(Str)\n",
    "    start=0\n",
    "    end=length-1\n",
    "    for i in range(length):\n",
    "        if(Str[start] != Str[end]):\n",
    "            break\n",
    "        start=start+1\n",
    "        end=end-1\n",
    "    if (start==length):\n",
    "        pal_result.append(Str)\n",
    "        \n",
    "\n",
    "pal_result=[]\n",
    "String='axxxxxxxyxxxxxxxxa'\n",
    "\n",
    "length1=len(String)\n",
    "for i in range(length1-1):\n",
    "    for j in range(i+1,length1):\n",
    "        if (String[i]==String[j]):\n",
    "            Str=String[i:j+1]\n",
    "            #print(Str)\n",
    "            palindrome(Str)\n",
    "\n",
    "            \n",
    "max_len = -1\n",
    "for ele in pal_result: \n",
    "    if len(ele) > max_len: \n",
    "        max_len = len(ele)\n",
    "        max_str=ele\n",
    "print(max_len,max_str)"
   ]
  },
  {
   "cell_type": "code",
   "execution_count": 13,
   "metadata": {},
   "outputs": [
    {
     "data": {
      "text/plain": [
       "['xx',\n",
       " 'xxx',\n",
       " 'xxxx',\n",
       " 'xxxxx',\n",
       " 'xxxxxx',\n",
       " 'xxxxxxx',\n",
       " 'xxxxxxxyxxxxxxx',\n",
       " 'xx',\n",
       " 'xxx',\n",
       " 'xxxx',\n",
       " 'xxxxx',\n",
       " 'xxxxxx',\n",
       " 'xxxxxxyxxxxxx',\n",
       " 'xx',\n",
       " 'xxx',\n",
       " 'xxxx',\n",
       " 'xxxxx',\n",
       " 'xxxxxyxxxxx',\n",
       " 'xx',\n",
       " 'xxx',\n",
       " 'xxxx',\n",
       " 'xxxxyxxxx',\n",
       " 'xx',\n",
       " 'xxx',\n",
       " 'xxxyxxx',\n",
       " 'xx',\n",
       " 'xxyxx',\n",
       " 'xyx',\n",
       " 'xx',\n",
       " 'xxx',\n",
       " 'xxxx',\n",
       " 'xxxxx',\n",
       " 'xxxxxx',\n",
       " 'xxxxxxx',\n",
       " 'xxxxxxxx',\n",
       " 'xx',\n",
       " 'xxx',\n",
       " 'xxxx',\n",
       " 'xxxxx',\n",
       " 'xxxxxx',\n",
       " 'xxxxxxx',\n",
       " 'xx',\n",
       " 'xxx',\n",
       " 'xxxx',\n",
       " 'xxxxx',\n",
       " 'xxxxxx',\n",
       " 'xx',\n",
       " 'xxx',\n",
       " 'xxxx',\n",
       " 'xxxxx',\n",
       " 'xx',\n",
       " 'xxx',\n",
       " 'xxxx',\n",
       " 'xx',\n",
       " 'xxx',\n",
       " 'xx']"
      ]
     },
     "execution_count": 13,
     "metadata": {},
     "output_type": "execute_result"
    }
   ],
   "source": [
    "pal_result"
   ]
  },
  {
   "cell_type": "code",
   "execution_count": null,
   "metadata": {},
   "outputs": [],
   "source": []
  }
 ],
 "metadata": {
  "kernelspec": {
   "display_name": "Python 3",
   "language": "python",
   "name": "python3"
  },
  "language_info": {
   "codemirror_mode": {
    "name": "ipython",
    "version": 3
   },
   "file_extension": ".py",
   "mimetype": "text/x-python",
   "name": "python",
   "nbconvert_exporter": "python",
   "pygments_lexer": "ipython3",
   "version": "3.8.3"
  }
 },
 "nbformat": 4,
 "nbformat_minor": 4
}
