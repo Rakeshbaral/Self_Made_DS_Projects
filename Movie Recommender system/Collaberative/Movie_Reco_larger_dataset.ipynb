{
 "cells": [
  {
   "cell_type": "code",
   "execution_count": 1,
   "metadata": {},
   "outputs": [],
   "source": [
    "import numpy as np\n",
    "import pandas as pd\n",
    "from sklearn.metrics.pairwise import pairwise_distances\n",
    "import math\n",
    "from sklearn.metrics import mean_squared_error\n"
   ]
  },
  {
   "cell_type": "code",
   "execution_count": 2,
   "metadata": {},
   "outputs": [],
   "source": [
    "rs_cols = ['user_id', 'movie_id', 'rating', 'unix_timestamp']\n",
    "\n",
    "ratings_base = pd.read_csv('ua.base', sep='\\t', names=rs_cols)\n",
    "ratings_test = pd.read_csv('ua.test', sep='\\t', names=rs_cols)"
   ]
  },
  {
   "cell_type": "code",
   "execution_count": 3,
   "metadata": {},
   "outputs": [
    {
     "data": {
      "text/plain": [
       "user_id             943\n",
       "movie_id           1680\n",
       "rating                5\n",
       "unix_timestamp    46638\n",
       "dtype: int64"
      ]
     },
     "execution_count": 3,
     "metadata": {},
     "output_type": "execute_result"
    }
   ],
   "source": [
    "ratings_base.nunique()\n",
    "#There are 943 unique ids and 1680 unique movie ids are there in the dataset"
   ]
  },
  {
   "cell_type": "code",
   "execution_count": 4,
   "metadata": {},
   "outputs": [],
   "source": [
    "row_base_ratings=ratings_base['user_id'].unique().max()\n",
    "column_base_ratings=ratings_base['movie_id'].unique().max()\n",
    "\n",
    "row_test_ratings=ratings_test['user_id'].unique().max()\n",
    "column_test_ratings=ratings_test['movie_id'].unique().max()"
   ]
  },
  {
   "cell_type": "code",
   "execution_count": 5,
   "metadata": {},
   "outputs": [],
   "source": [
    "train_matrix=np.zeros((row_base_ratings,column_base_ratings))\n",
    "for line in ratings_base.itertuples():\n",
    "    train_matrix[line[1]-1,line[2]-1]=line[3]\n",
    "    #print(line)\n",
    "    \n",
    "test_matrix=np.zeros((row_test_ratings,column_test_ratings))\n",
    "for line in ratings_test.itertuples():\n",
    "    test_matrix[line[1]-1,line[2]-1]=line[3]\n",
    "    #print(line)\n",
    "    "
   ]
  },
  {
   "cell_type": "markdown",
   "metadata": {},
   "source": [
    "# User-User based Collaberative Filtering"
   ]
  },
  {
   "cell_type": "markdown",
   "metadata": {},
   "source": []
  },
  {
   "cell_type": "markdown",
   "metadata": {},
   "source": [
    "<b>dataframe.iteritems()--------->It gives the columns as keys and the respective values in a series\n",
    "    dataframe.iterrows()----------> It gives an iterator yielding each row index along withh all the row values\n",
    "    dataframe.itertuples()--------> It gives named series where the first element is the index value and the rest are the row values"
   ]
  },
  {
   "cell_type": "markdown",
   "metadata": {},
   "source": [
    "We use the cosine similarity metric which computers the dot product between the two vectors made up of the ratings of the \n",
    "movies they have rated."
   ]
  },
  {
   "cell_type": "code",
   "execution_count": 6,
   "metadata": {},
   "outputs": [
    {
     "data": {
      "text/plain": [
       "array([[0.        , 0.85324924, 0.9493235 , ..., 0.96129522, 0.8272823 ,\n",
       "        0.61960392],\n",
       "       [0.85324924, 0.        , 0.87419215, ..., 0.82629308, 0.82681535,\n",
       "        0.91905667],\n",
       "       [0.9493235 , 0.87419215, 0.        , ..., 0.97201154, 0.87518372,\n",
       "        0.97030738],\n",
       "       ...,\n",
       "       [0.96129522, 0.82629308, 0.97201154, ..., 0.        , 0.96004871,\n",
       "        0.98085615],\n",
       "       [0.8272823 , 0.82681535, 0.87518372, ..., 0.96004871, 0.        ,\n",
       "        0.85528944],\n",
       "       [0.61960392, 0.91905667, 0.97030738, ..., 0.98085615, 0.85528944,\n",
       "        0.        ]])"
      ]
     },
     "execution_count": 6,
     "metadata": {},
     "output_type": "execute_result"
    }
   ],
   "source": [
    "user_similarity=pairwise_distances(train_matrix,metric='cosine')\n",
    "user_similarity.shape\n",
    "user_similarity"
   ]
  },
  {
   "cell_type": "code",
   "execution_count": 7,
   "metadata": {},
   "outputs": [],
   "source": [
    "#The trainning matrix is given as input and the used similarity matix and the number of expected smilar movies required passed\n",
    "def UserVsUser(train_matrix,user_similarity,n_similar=4):\n",
    "    #the user_similarity matrix is being sorted and the indexes are returned.'-n_similar'  gives the last  30 values\n",
    "    #the last index gives in the reverse order. The maximum 30 cosine similarities users\n",
    "    similar_n=user_similarity.argsort()[:,-n_similar:][:,::-1]\n",
    "    #print(similar_n)\n",
    "    pred=np.zeros((row_base_ratings,column_base_ratings))\n",
    "    \n",
    "    for i,users in enumerate(similar_n):\n",
    "        #The indexes of the maximum similatiey uses are stored here\n",
    "        similar_users_indexes=users\n",
    "        #print(i,users)\n",
    "        #The cosine similarities values are restored here by giving the column values\n",
    "        similarity_n=user_similarity[i,similar_users_indexes]\n",
    "        #print(i,similarity_n,'***************************')\n",
    "        #The ratings given by the similar users are filtered out from the matrix_n\n",
    "        matrix_n=train_matrix[similar_users_indexes,:]\n",
    "        #print(similar_users_indexes)\n",
    "        #The first term adds one more dimension and gives a column matrix.Its transpose will be a row matrix\n",
    "        #a single entry in the rated_items is the dot product between the all similar uses consine value and all the ratings \n",
    "        #of one item\n",
    "        rated_items=similarity_n[:,np.newaxis].T.dot(matrix_n-matrix_n.mean(axis=1)[:,np.newaxis])/similarity_n.sum()\n",
    "        pred[i,:]=rated_items\n",
    "        #print(pred)\n",
    "    #print((matrix_n-matrix_n.mean(axis=1)[:,np.newaxis])/similarity_n.sum())\n",
    "    #print(rated_items)\n",
    "    return pred\n",
    "        "
   ]
  },
  {
   "cell_type": "code",
   "execution_count": 8,
   "metadata": {},
   "outputs": [
    {
     "data": {
      "text/plain": [
       "array([[ 0.53079191,  0.53079191,  0.53079191, ...,  0.53079191,\n",
       "         0.53079191,  0.53079191],\n",
       "       [ 0.27556554,  0.17581381, -0.00189689, ..., -0.00189689,\n",
       "        -0.00189689, -0.00189689],\n",
       "       [ 1.17064209,  0.07064209,  0.01064209, ...,  0.01064209,\n",
       "         0.01064209,  0.01064209],\n",
       "       ...,\n",
       "       [-0.0479786 , -0.0479786 , -0.0479786 , ..., -0.0479786 ,\n",
       "        -0.0479786 , -0.0479786 ],\n",
       "       [ 0.8909642 ,  0.12995357,  0.12995357, ...,  0.12995357,\n",
       "         0.12995357,  0.12995357],\n",
       "       [ 0.27315101,  0.27315101,  0.27315101, ...,  0.31315101,\n",
       "         0.27315101,  0.27315101]])"
      ]
     },
     "execution_count": 8,
     "metadata": {},
     "output_type": "execute_result"
    }
   ],
   "source": [
    "predictions=UserVsUser(train_matrix,user_similarity,50)+train_matrix.mean(axis=1)[:,np.newaxis]\n",
    "#user_similarity[0,0]\n",
    "predictions"
   ]
  },
  {
   "cell_type": "code",
   "execution_count": 9,
   "metadata": {},
   "outputs": [
    {
     "data": {
      "text/plain": [
       "3.507744099069281"
      ]
     },
     "execution_count": 9,
     "metadata": {},
     "output_type": "execute_result"
    }
   ],
   "source": [
    "predicted_ratings = predictions[test_matrix.nonzero()]\n",
    "\n",
    "test_truth = test_matrix[test_matrix.nonzero()]\n",
    "\n",
    "math.sqrt(mean_squared_error(predicted_ratings,test_truth))\n"
   ]
  },
  {
   "cell_type": "markdown",
   "metadata": {},
   "source": [
    "# item-item based collaberative filtering"
   ]
  },
  {
   "cell_type": "code",
   "execution_count": 10,
   "metadata": {},
   "outputs": [],
   "source": [
    "item_similarity=pairwise_distances(train_matrix.T,metric='cosine')"
   ]
  },
  {
   "cell_type": "code",
   "execution_count": 11,
   "metadata": {},
   "outputs": [
    {
     "data": {
      "text/plain": [
       "(1682, 1682)"
      ]
     },
     "execution_count": 11,
     "metadata": {},
     "output_type": "execute_result"
    }
   ],
   "source": [
    "item_similarity\n",
    "item_similarity.shape"
   ]
  },
  {
   "cell_type": "code",
   "execution_count": 12,
   "metadata": {},
   "outputs": [],
   "source": [
    "def itemVsitem(train_matrix,item_similarity,n_similar=30):\n",
    "    similar_n=item_similarity.argsort()[:,-n_similar:][:,::-1]\n",
    "    #print(similar_n.shape)\n",
    "    pred=np.zeros((row_base_ratings,column_base_ratings))\n",
    "    \n",
    "    for i,items in enumerate(similar_n):\n",
    "        similar_items_indexes=items\n",
    "        similarity_n=item_similarity[i,similar_items_indexes]\n",
    "        matrix_n=train_matrix[:,similar_items_indexes]\n",
    "        rated_items=matrix_n.dot(similarity_n)/similarity_n.sum()\n",
    "        pred[:,i]=rated_items\n",
    "    return pred"
   ]
  },
  {
   "cell_type": "code",
   "execution_count": 13,
   "metadata": {},
   "outputs": [
    {
     "data": {
      "text/plain": [
       "array([[0. , 0. , 0. , ..., 0. , 0. , 1.6],\n",
       "       [0. , 0. , 0. , ..., 0. , 0. , 0. ],\n",
       "       [0. , 0. , 0. , ..., 0. , 0. , 0. ],\n",
       "       ...,\n",
       "       [0. , 0. , 0. , ..., 0. , 0. , 0. ],\n",
       "       [0. , 0. , 0. , ..., 0. , 0. , 0. ],\n",
       "       [0. , 0. , 0. , ..., 0. , 0. , 0. ]])"
      ]
     },
     "execution_count": 13,
     "metadata": {},
     "output_type": "execute_result"
    }
   ],
   "source": [
    "itemVsitem(train_matrix,item_similarity,5)"
   ]
  },
  {
   "cell_type": "code",
   "execution_count": 14,
   "metadata": {},
   "outputs": [
    {
     "name": "stdout",
     "output_type": "stream",
     "text": [
      "predictions shape  (943, 1682)\n"
     ]
    },
    {
     "data": {
      "text/plain": [
       "3.749688827167227"
      ]
     },
     "execution_count": 14,
     "metadata": {},
     "output_type": "execute_result"
    }
   ],
   "source": [
    "predictions = itemVsitem(train_matrix,item_similarity,50)\n",
    "print('predictions shape ',predictions.shape)\n",
    "\n",
    "predicted_ratings = predictions[test_matrix.nonzero()]\n",
    "test_truth = test_matrix[test_matrix.nonzero()]\n",
    "\n",
    "math.sqrt(mean_squared_error(predicted_ratings,test_truth))"
   ]
  },
  {
   "cell_type": "code",
   "execution_count": 15,
   "metadata": {},
   "outputs": [],
   "source": [
    "\n",
    "user_id=1\n",
    "user_ratings=predictions[user_id-1,:]\n",
    "\n",
    "\n",
    "train_unknown_indices=np.where(train_matrix[user_id-1,:]==0)[0]"
   ]
  },
  {
   "cell_type": "code",
   "execution_count": 16,
   "metadata": {},
   "outputs": [
    {
     "data": {
      "text/plain": [
       "(1420,)"
      ]
     },
     "execution_count": 16,
     "metadata": {},
     "output_type": "execute_result"
    }
   ],
   "source": [
    "user_recommendations=user_ratings[train_unknown_indices]\n",
    "user_recommendations.shape"
   ]
  },
  {
   "cell_type": "code",
   "execution_count": 17,
   "metadata": {},
   "outputs": [
    {
     "name": "stdout",
     "output_type": "stream",
     "text": [
      "Day the Earth Stood Still, The (1951)\n",
      "Eighth Day, The (Huitième jour, Le) (1996)\n",
      "Crucible, The (1996)\n",
      "Love Bug, The (1969)\n",
      "For the Moment (1994)\n",
      "8 1/2 (8½) (1963)\n",
      "Better Off Dead... (1985)\n",
      "Shining, The (1980)\n",
      "Stand by Me (1986)\n",
      "Deer Hunter, The (1978)\n"
     ]
    }
   ],
   "source": [
    "movie_reco=user_recommendations.argsort()[-10:][::-1]\n",
    "\n",
    "movies_list=pd.read_csv(\"movies.csv\")\n",
    "movies_list1=movies_list[['movieId','title']]\n",
    "\n",
    "for movie_idd in movie_reco:\n",
    "    print(movies_list1.iloc[movie_idd,1])\n"
   ]
  },
  {
   "cell_type": "code",
   "execution_count": 18,
   "metadata": {},
   "outputs": [],
   "source": [
    "import scipy.sparse as sp\n",
    "from scipy.sparse.linalg import svds\n",
    "\n",
    "u,s,vt=svds(train_matrix,k=12)"
   ]
  },
  {
   "cell_type": "code",
   "execution_count": 19,
   "metadata": {},
   "outputs": [],
   "source": [
    "u.shape,s.shape,vt.shape\n",
    "s_diag_matrix=np.diag(s)"
   ]
  },
  {
   "cell_type": "code",
   "execution_count": 20,
   "metadata": {},
   "outputs": [],
   "source": [
    "predictions_svd=np.dot(np.dot(u,s_diag_matrix),vt)"
   ]
  },
  {
   "cell_type": "code",
   "execution_count": 21,
   "metadata": {},
   "outputs": [],
   "source": [
    "predicted_ratings_svd=predictions_svd[test_matrix.nonzero()]\n",
    "test_truth=test_matrix[test_matrix.nonzero()]"
   ]
  },
  {
   "cell_type": "code",
   "execution_count": 22,
   "metadata": {},
   "outputs": [
    {
     "data": {
      "text/plain": [
       "2.8346302017438285"
      ]
     },
     "execution_count": 22,
     "metadata": {},
     "output_type": "execute_result"
    }
   ],
   "source": [
    "math.sqrt(mean_squared_error(predicted_ratings_svd,test_truth))"
   ]
  },
  {
   "cell_type": "code",
   "execution_count": 24,
   "metadata": {},
   "outputs": [
    {
     "name": "stdout",
     "output_type": "stream",
     "text": [
      "It Takes Two (1995)\n",
      "Guardian Angel (1994)\n",
      "Cry, the Beloved Country (1995)\n",
      "Lawnmower Man 2: Beyond Cyberspace (1996)\n",
      "Powder (1995)\n",
      "Lamerica (1994)\n",
      "To Die For (1995)\n",
      "Fair Game (1995)\n",
      "Two if by Sea (1996)\n",
      "Big Green, The (1995)\n"
     ]
    }
   ],
   "source": [
    "\n",
    "\n",
    "\n",
    "\n",
    "user_id=100\n",
    "user_ratings1=predictions_svd[user_id-1,:]\n",
    "\n",
    "\n",
    "#train_unknown_indices=np.where(train_matrix[user_id-1,:]==0)[0]\n",
    "\n",
    "user_recommendations1=user_ratings1[train_unknown_indices]\n",
    "\n",
    "movie_reco1=user_recommendations1.argsort()[-10:][::-1]\n",
    "\n",
    "#movies_list=pd.read_csv(\"movies.csv\")\n",
    "#movies_list1=movies_list[['movieId','title']]\n",
    "\n",
    "for movie_idd in movie_reco1:\n",
    "    print(movies_list1.iloc[movie_idd,1])"
   ]
  },
  {
   "cell_type": "code",
   "execution_count": null,
   "metadata": {},
   "outputs": [],
   "source": []
  }
 ],
 "metadata": {
  "kernelspec": {
   "display_name": "Python 3",
   "language": "python",
   "name": "python3"
  },
  "language_info": {
   "codemirror_mode": {
    "name": "ipython",
    "version": 3
   },
   "file_extension": ".py",
   "mimetype": "text/x-python",
   "name": "python",
   "nbconvert_exporter": "python",
   "pygments_lexer": "ipython3",
   "version": "3.8.3"
  }
 },
 "nbformat": 4,
 "nbformat_minor": 4
}
